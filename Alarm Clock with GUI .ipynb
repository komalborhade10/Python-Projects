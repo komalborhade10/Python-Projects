{
 "cells": [
  {
   "cell_type": "markdown",
   "metadata": {},
   "source": [
    "# Alarm Clock with GUI "
   ]
  },
  {
   "cell_type": "code",
   "execution_count": 1,
   "metadata": {},
   "outputs": [],
   "source": [
    "# Importing all necessary libraries to form the alarm clock:\n",
    "from tkinter import *\n",
    "import datetime\n",
    "import time\n",
    "import winsound"
   ]
  },
  {
   "cell_type": "markdown",
   "metadata": {},
   "source": [
    "* <b> Tkinter</b> module belongs to a standard library of GUI in Python. It helps us to create a dialog box with any information that we want to provide or get from the users.<br>\n",
    "* <b>Datetime</b> and time modules in python help us to work with the dates and time of the current day when the user is operating python and to manipulate it too.<br>\n",
    "* <b>Winsound</b> module provides access to the basic sound playing machinery provided by Windows platforms. This is useful to generate the sound immediately when a function is called."
   ]
  },
  {
   "cell_type": "code",
   "execution_count": 2,
   "metadata": {},
   "outputs": [],
   "source": [
    "# Create a while loop:\n",
    "\n",
    "\n",
    "def alarm(set_alarm_timer):\n",
    "    while True:\n",
    "        time.sleep(1)     #time.sleep(1) halts the execution of the further commands\n",
    "        current_time = datetime.datetime.now()\n",
    "        now = current_time.strftime(\"%H:%M:%S\")\n",
    "        date = current_time.strftime(\"%d/%m/%Y\")\n",
    "        print(\"The Set Date is:\",date)\n",
    "        print(now)\n",
    "        if now == set_alarm_timer:\n",
    "            print(\"Time to Wake up\")\n",
    "            for i in range(0,5):\n",
    "                winsound.Beep(800,100)\n",
    "            #winsound.Playsound(\"sound.wav\",winsound.SND_ASYNC)     #winsound.SND_ASYNC plays the system generated sound\n",
    "            break\n",
    "        \n",
    "def actual_time():\n",
    "    set_alarm_timer = f\"{hour.get()}:{min.get()}:{sec.get()}\"\n",
    "    alarm(set_alarm_timer)\n",
    "        "
   ]
  },
  {
   "cell_type": "code",
   "execution_count": 3,
   "metadata": {},
   "outputs": [
    {
     "name": "stdout",
     "output_type": "stream",
     "text": [
      "The Set Date is: 12/02/2022\n",
      "11:42:39\n",
      "The Set Date is: 12/02/2022\n",
      "11:42:40\n",
      "Time to Wake up\n"
     ]
    }
   ],
   "source": [
    "# Creating GUI using tkinter:\n",
    "\n",
    "clock = Tk()     #To Initialize tkinter, we pass a command under the name clock as Tk().\n",
    "clock.title(\"Alarm Clock\")\n",
    "clock.geometry(\"400x200\")\n",
    "time_format = Label(clock, text=\"Enter time in 24 hour format!\",fg=\"red\",bg=\"black\",font=\"Arial\").place(x=60,y=120)\n",
    "addTime = Label(clock,text=\"Hour Min Sec\",font=60).place(x=110)\n",
    "setYourAlarm = Label(clock,text=\"When to wake you up\",fg=\"blue\",relief=\"solid\",font=(\"Helevetica\",7,\"bold\")).place(x=0,y=29)\n",
    "\n",
    "# The Variables we require to set the alarm(initialization):\n",
    "hour = StringVar()\n",
    "min = StringVar()\n",
    "sec = StringVar()\n",
    "\n",
    "# Time required to set alaram clock:\n",
    "hourTime = Entry(clock,textvariable = hour,bg = \"pink\",width = 15).place(x=110,y=30)\n",
    "minTime= Entry(clock,textvariable = min,bg = \"pink\",width = 15).place(x=150,y=30)\n",
    "secTime = Entry(clock,textvariable = sec,bg = \"pink\",width = 15).place(x=200,y=30)\n",
    "\n",
    "#To take the time input by user:\n",
    "submit = Button(clock,text = \"Set Alarm\",fg=\"red\",width = 10,command = actual_time).place(x =110,y=70)\n",
    "\n",
    "clock.mainloop()\n",
    "#Execution of the window."
   ]
  },
  {
   "cell_type": "code",
   "execution_count": null,
   "metadata": {},
   "outputs": [],
   "source": []
  }
 ],
 "metadata": {
  "kernelspec": {
   "display_name": "Python 3",
   "language": "python",
   "name": "python3"
  },
  "language_info": {
   "codemirror_mode": {
    "name": "ipython",
    "version": 3
   },
   "file_extension": ".py",
   "mimetype": "text/x-python",
   "name": "python",
   "nbconvert_exporter": "python",
   "pygments_lexer": "ipython3",
   "version": "3.8.3"
  }
 },
 "nbformat": 4,
 "nbformat_minor": 4
}
